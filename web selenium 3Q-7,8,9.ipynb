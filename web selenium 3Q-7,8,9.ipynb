{
 "cells": [
  {
   "cell_type": "code",
   "execution_count": 1,
   "id": "84da5209",
   "metadata": {},
   "outputs": [],
   "source": [
    "import pandas as pd\n",
    "import numpy as np\n",
    "import selenium\n",
    "from selenium import webdriver\n",
    "from selenium.common.exceptions import NoSuchElementException\n",
    "import warnings\n",
    "warnings.filterwarnings('ignore')"
   ]
  },
  {
   "cell_type": "code",
   "execution_count": 2,
   "id": "c1be03d5",
   "metadata": {},
   "outputs": [],
   "source": [
    "driver = webdriver.Chrome(r'C:\\Users\\PC\\Downloads\\chromedriver_win32 (1)\\chromedriver.exe')"
   ]
  },
  {
   "cell_type": "code",
   "execution_count": null,
   "id": "2e96e1e8",
   "metadata": {},
   "outputs": [],
   "source": [
    "driver.get(\"https://www.digit.in\")"
   ]
  },
  {
   "cell_type": "code",
   "execution_count": 11,
   "id": "983c40a1",
   "metadata": {},
   "outputs": [
    {
     "data": {
      "text/plain": [
       "<selenium.webdriver.remote.webelement.WebElement (session=\"110b78492607f1cf341d9baaf3baf61a\", element=\"91e3f442-1698-46ab-ba31-0489b64caa9a\")>"
      ]
     },
     "execution_count": 11,
     "metadata": {},
     "output_type": "execute_result"
    }
   ],
   "source": [
    "search = driver.find_element_by_id(\"keyword\")\n",
    "search"
   ]
  },
  {
   "cell_type": "code",
   "execution_count": 12,
   "id": "f0bfc9aa",
   "metadata": {},
   "outputs": [],
   "source": [
    "search.send_keys(\"gaming pc\")"
   ]
  },
  {
   "cell_type": "code",
   "execution_count": 15,
   "id": "a54480fd",
   "metadata": {},
   "outputs": [
    {
     "data": {
      "text/plain": [
       "<selenium.webdriver.remote.webelement.WebElement (session=\"110b78492607f1cf341d9baaf3baf61a\", element=\"02686e07-b4d0-496a-982a-069e6cebced8\")>"
      ]
     },
     "execution_count": 15,
     "metadata": {},
     "output_type": "execute_result"
    }
   ],
   "source": [
    "search = driver.find_element_by_xpath('/html/body/div[7]/div[1]/div/div/form/div/div/span/img')\n",
    "search"
   ]
  },
  {
   "cell_type": "code",
   "execution_count": 16,
   "id": "c0ae350a",
   "metadata": {},
   "outputs": [],
   "source": [
    "search.click()"
   ]
  },
  {
   "cell_type": "code",
   "execution_count": 17,
   "id": "f7ddf572",
   "metadata": {},
   "outputs": [
    {
     "data": {
      "text/plain": [
       "[<selenium.webdriver.remote.webelement.WebElement (session=\"110b78492607f1cf341d9baaf3baf61a\", element=\"5b2bbedf-7757-4836-bf8b-ebde7a1350c2\")>,\n",
       " <selenium.webdriver.remote.webelement.WebElement (session=\"110b78492607f1cf341d9baaf3baf61a\", element=\"8a8cd3ab-9e64-437e-9db6-25b62067114c\")>,\n",
       " <selenium.webdriver.remote.webelement.WebElement (session=\"110b78492607f1cf341d9baaf3baf61a\", element=\"d9fb2e88-714c-40ac-ba44-870e680eeb96\")>,\n",
       " <selenium.webdriver.remote.webelement.WebElement (session=\"110b78492607f1cf341d9baaf3baf61a\", element=\"78d8c6a4-4a3a-4351-94c3-ccd21e5868d8\")>,\n",
       " <selenium.webdriver.remote.webelement.WebElement (session=\"110b78492607f1cf341d9baaf3baf61a\", element=\"e5a460be-72bc-4d89-9212-2d1ae0859f63\")>,\n",
       " <selenium.webdriver.remote.webelement.WebElement (session=\"110b78492607f1cf341d9baaf3baf61a\", element=\"f639c0e8-ff66-4cf7-a210-fb7aa64e4ce0\")>,\n",
       " <selenium.webdriver.remote.webelement.WebElement (session=\"110b78492607f1cf341d9baaf3baf61a\", element=\"dcdcf7f1-153c-44ca-9977-9c9e24d2af8c\")>,\n",
       " <selenium.webdriver.remote.webelement.WebElement (session=\"110b78492607f1cf341d9baaf3baf61a\", element=\"4936a095-99a7-4b4b-b715-c0e101411531\")>,\n",
       " <selenium.webdriver.remote.webelement.WebElement (session=\"110b78492607f1cf341d9baaf3baf61a\", element=\"2f3fc71b-b25a-40c6-a49e-f74ef3d40bbe\")>,\n",
       " <selenium.webdriver.remote.webelement.WebElement (session=\"110b78492607f1cf341d9baaf3baf61a\", element=\"97dfe298-77e7-41bb-bdca-c8bf8bde12ab\")>]"
      ]
     },
     "execution_count": 17,
     "metadata": {},
     "output_type": "execute_result"
    }
   ],
   "source": [
    "title_tags = driver.find_elements_by_xpath('//div[@class =\"searchProduct-desc\"]')\n",
    "len(title_tags)\n",
    "title_tags[0:10]"
   ]
  },
  {
   "cell_type": "code",
   "execution_count": 19,
   "id": "2198b699",
   "metadata": {},
   "outputs": [
    {
     "data": {
      "text/plain": [
       "['Sony Vaio S Series SVS13A15GN',\n",
       " 'Razer Turret',\n",
       " 'Acer Aspire TimelineX 4820T - Aspire for more',\n",
       " 'JBL Quantum 400',\n",
       " 'MSI PS42 Creator PC',\n",
       " 'Logitech G Pro',\n",
       " 'F1 2010',\n",
       " 'CORSAIR HS35 Stereo Gaming Headset',\n",
       " 'CORSAIR HS50 PRO STEREO Gaming Headset',\n",
       " 'Logitech G435 LIGHTSPEED Wireless Gaming Headset']"
      ]
     },
     "execution_count": 19,
     "metadata": {},
     "output_type": "execute_result"
    }
   ],
   "source": [
    "product = []\n",
    "\n",
    "for i in title_tags:\n",
    "    product.append(i.text)\n",
    "product[0:10] "
   ]
  },
  {
   "cell_type": "code",
   "execution_count": 20,
   "id": "a71900a1",
   "metadata": {},
   "outputs": [],
   "source": [
    "driver = webdriver.Chrome(r'C:\\Users\\PC\\Downloads\\chromedriver_win32 (1)\\chromedriver.exe')"
   ]
  },
  {
   "cell_type": "code",
   "execution_count": 22,
   "id": "3daf82af",
   "metadata": {},
   "outputs": [],
   "source": [
    "driver.get(\"https://www.forbes.com\")"
   ]
  },
  {
   "cell_type": "code",
   "execution_count": 25,
   "id": "8670f8d0",
   "metadata": {},
   "outputs": [
    {
     "data": {
      "text/plain": [
       "<selenium.webdriver.remote.webelement.WebElement (session=\"4cec2d72c2d306863eb59b6b5d9d3e5e\", element=\"26ec17ab-2677-44d7-a847-5c9ef378a5d6\")>"
      ]
     },
     "execution_count": 25,
     "metadata": {},
     "output_type": "execute_result"
    }
   ],
   "source": [
    "search = driver.find_element_by_class_name(\"search-modal__input\")\n",
    "search"
   ]
  },
  {
   "cell_type": "code",
   "execution_count": 28,
   "id": "b296d356",
   "metadata": {},
   "outputs": [],
   "source": [
    "search.send_keys(\"billionaires\")"
   ]
  },
  {
   "cell_type": "code",
   "execution_count": 32,
   "id": "410d5b78",
   "metadata": {},
   "outputs": [
    {
     "data": {
      "text/plain": [
       "<selenium.webdriver.remote.webelement.WebElement (session=\"4cec2d72c2d306863eb59b6b5d9d3e5e\", element=\"2aeca9f5-fdbb-4f83-b947-ca79b1e02ce1\")>"
      ]
     },
     "execution_count": 32,
     "metadata": {},
     "output_type": "execute_result"
    }
   ],
   "source": [
    "search = driver.find_element_by_xpath('/html/body/div[1]/div[3]/form/button')\n",
    "search"
   ]
  },
  {
   "cell_type": "code",
   "execution_count": 34,
   "id": "4dde93c6",
   "metadata": {},
   "outputs": [
    {
     "ename": "StaleElementReferenceException",
     "evalue": "Message: stale element reference: element is not attached to the page document\n  (Session info: chrome=97.0.4692.99)\nStacktrace:\nBacktrace:\n\tOrdinal0 [0x00E4FDC3+2555331]\n\tOrdinal0 [0x00DE77F1+2127857]\n\tOrdinal0 [0x00CE2E08+1060360]\n\tOrdinal0 [0x00CE5524+1070372]\n\tOrdinal0 [0x00CE53EE+1070062]\n\tOrdinal0 [0x00CE5650+1070672]\n\tOrdinal0 [0x00D0FD5C+1244508]\n\tOrdinal0 [0x00D04ED6+1199830]\n\tOrdinal0 [0x00D27B0C+1342220]\n\tOrdinal0 [0x00D04984+1198468]\n\tOrdinal0 [0x00D27C14+1342484]\n\tOrdinal0 [0x00D375FA+1406458]\n\tOrdinal0 [0x00D27976+1341814]\n\tOrdinal0 [0x00D036B6+1193654]\n\tOrdinal0 [0x00D04546+1197382]\n\tGetHandleVerifier [0x00FE9622+1619522]\n\tGetHandleVerifier [0x0109882C+2336844]\n\tGetHandleVerifier [0x00EE23E1+541697]\n\tGetHandleVerifier [0x00EE1443+537699]\n\tOrdinal0 [0x00DED18E+2150798]\n\tOrdinal0 [0x00DF1518+2168088]\n\tOrdinal0 [0x00DF1660+2168416]\n\tOrdinal0 [0x00DFB330+2208560]\n\tBaseThreadInitThunk [0x7622FA29+25]\n\tRtlGetAppContainerNamedObjectPath [0x77637A9E+286]\n\tRtlGetAppContainerNamedObjectPath [0x77637A6E+238]\n",
     "output_type": "error",
     "traceback": [
      "\u001b[1;31m---------------------------------------------------------------------------\u001b[0m",
      "\u001b[1;31mStaleElementReferenceException\u001b[0m            Traceback (most recent call last)",
      "\u001b[1;32m<ipython-input-34-2316bca02647>\u001b[0m in \u001b[0;36m<module>\u001b[1;34m\u001b[0m\n\u001b[1;32m----> 1\u001b[1;33m \u001b[0msearch\u001b[0m\u001b[1;33m.\u001b[0m\u001b[0mclick\u001b[0m\u001b[1;33m(\u001b[0m\u001b[1;33m)\u001b[0m\u001b[1;33m\u001b[0m\u001b[1;33m\u001b[0m\u001b[0m\n\u001b[0m",
      "\u001b[1;32mC:\\ProgramData\\Anaconda3\\lib\\site-packages\\selenium\\webdriver\\remote\\webelement.py\u001b[0m in \u001b[0;36mclick\u001b[1;34m(self)\u001b[0m\n\u001b[0;32m     79\u001b[0m     \u001b[1;32mdef\u001b[0m \u001b[0mclick\u001b[0m\u001b[1;33m(\u001b[0m\u001b[0mself\u001b[0m\u001b[1;33m)\u001b[0m \u001b[1;33m->\u001b[0m \u001b[1;32mNone\u001b[0m\u001b[1;33m:\u001b[0m\u001b[1;33m\u001b[0m\u001b[1;33m\u001b[0m\u001b[0m\n\u001b[0;32m     80\u001b[0m         \u001b[1;34m\"\"\"Clicks the element.\"\"\"\u001b[0m\u001b[1;33m\u001b[0m\u001b[1;33m\u001b[0m\u001b[0m\n\u001b[1;32m---> 81\u001b[1;33m         \u001b[0mself\u001b[0m\u001b[1;33m.\u001b[0m\u001b[0m_execute\u001b[0m\u001b[1;33m(\u001b[0m\u001b[0mCommand\u001b[0m\u001b[1;33m.\u001b[0m\u001b[0mCLICK_ELEMENT\u001b[0m\u001b[1;33m)\u001b[0m\u001b[1;33m\u001b[0m\u001b[1;33m\u001b[0m\u001b[0m\n\u001b[0m\u001b[0;32m     82\u001b[0m \u001b[1;33m\u001b[0m\u001b[0m\n\u001b[0;32m     83\u001b[0m     \u001b[1;32mdef\u001b[0m \u001b[0msubmit\u001b[0m\u001b[1;33m(\u001b[0m\u001b[0mself\u001b[0m\u001b[1;33m)\u001b[0m\u001b[1;33m:\u001b[0m\u001b[1;33m\u001b[0m\u001b[1;33m\u001b[0m\u001b[0m\n",
      "\u001b[1;32mC:\\ProgramData\\Anaconda3\\lib\\site-packages\\selenium\\webdriver\\remote\\webelement.py\u001b[0m in \u001b[0;36m_execute\u001b[1;34m(self, command, params)\u001b[0m\n\u001b[0;32m    708\u001b[0m             \u001b[0mparams\u001b[0m \u001b[1;33m=\u001b[0m \u001b[1;33m{\u001b[0m\u001b[1;33m}\u001b[0m\u001b[1;33m\u001b[0m\u001b[1;33m\u001b[0m\u001b[0m\n\u001b[0;32m    709\u001b[0m         \u001b[0mparams\u001b[0m\u001b[1;33m[\u001b[0m\u001b[1;34m'id'\u001b[0m\u001b[1;33m]\u001b[0m \u001b[1;33m=\u001b[0m \u001b[0mself\u001b[0m\u001b[1;33m.\u001b[0m\u001b[0m_id\u001b[0m\u001b[1;33m\u001b[0m\u001b[1;33m\u001b[0m\u001b[0m\n\u001b[1;32m--> 710\u001b[1;33m         \u001b[1;32mreturn\u001b[0m \u001b[0mself\u001b[0m\u001b[1;33m.\u001b[0m\u001b[0m_parent\u001b[0m\u001b[1;33m.\u001b[0m\u001b[0mexecute\u001b[0m\u001b[1;33m(\u001b[0m\u001b[0mcommand\u001b[0m\u001b[1;33m,\u001b[0m \u001b[0mparams\u001b[0m\u001b[1;33m)\u001b[0m\u001b[1;33m\u001b[0m\u001b[1;33m\u001b[0m\u001b[0m\n\u001b[0m\u001b[0;32m    711\u001b[0m \u001b[1;33m\u001b[0m\u001b[0m\n\u001b[0;32m    712\u001b[0m     \u001b[1;32mdef\u001b[0m \u001b[0mfind_element\u001b[0m\u001b[1;33m(\u001b[0m\u001b[0mself\u001b[0m\u001b[1;33m,\u001b[0m \u001b[0mby\u001b[0m\u001b[1;33m=\u001b[0m\u001b[0mBy\u001b[0m\u001b[1;33m.\u001b[0m\u001b[0mID\u001b[0m\u001b[1;33m,\u001b[0m \u001b[0mvalue\u001b[0m\u001b[1;33m=\u001b[0m\u001b[1;32mNone\u001b[0m\u001b[1;33m)\u001b[0m\u001b[1;33m:\u001b[0m\u001b[1;33m\u001b[0m\u001b[1;33m\u001b[0m\u001b[0m\n",
      "\u001b[1;32mC:\\ProgramData\\Anaconda3\\lib\\site-packages\\selenium\\webdriver\\remote\\webdriver.py\u001b[0m in \u001b[0;36mexecute\u001b[1;34m(self, driver_command, params)\u001b[0m\n\u001b[0;32m    422\u001b[0m         \u001b[0mresponse\u001b[0m \u001b[1;33m=\u001b[0m \u001b[0mself\u001b[0m\u001b[1;33m.\u001b[0m\u001b[0mcommand_executor\u001b[0m\u001b[1;33m.\u001b[0m\u001b[0mexecute\u001b[0m\u001b[1;33m(\u001b[0m\u001b[0mdriver_command\u001b[0m\u001b[1;33m,\u001b[0m \u001b[0mparams\u001b[0m\u001b[1;33m)\u001b[0m\u001b[1;33m\u001b[0m\u001b[1;33m\u001b[0m\u001b[0m\n\u001b[0;32m    423\u001b[0m         \u001b[1;32mif\u001b[0m \u001b[0mresponse\u001b[0m\u001b[1;33m:\u001b[0m\u001b[1;33m\u001b[0m\u001b[1;33m\u001b[0m\u001b[0m\n\u001b[1;32m--> 424\u001b[1;33m             \u001b[0mself\u001b[0m\u001b[1;33m.\u001b[0m\u001b[0merror_handler\u001b[0m\u001b[1;33m.\u001b[0m\u001b[0mcheck_response\u001b[0m\u001b[1;33m(\u001b[0m\u001b[0mresponse\u001b[0m\u001b[1;33m)\u001b[0m\u001b[1;33m\u001b[0m\u001b[1;33m\u001b[0m\u001b[0m\n\u001b[0m\u001b[0;32m    425\u001b[0m             response['value'] = self._unwrap_value(\n\u001b[0;32m    426\u001b[0m                 response.get('value', None))\n",
      "\u001b[1;32mC:\\ProgramData\\Anaconda3\\lib\\site-packages\\selenium\\webdriver\\remote\\errorhandler.py\u001b[0m in \u001b[0;36mcheck_response\u001b[1;34m(self, response)\u001b[0m\n\u001b[0;32m    245\u001b[0m                 \u001b[0malert_text\u001b[0m \u001b[1;33m=\u001b[0m \u001b[0mvalue\u001b[0m\u001b[1;33m[\u001b[0m\u001b[1;34m'alert'\u001b[0m\u001b[1;33m]\u001b[0m\u001b[1;33m.\u001b[0m\u001b[0mget\u001b[0m\u001b[1;33m(\u001b[0m\u001b[1;34m'text'\u001b[0m\u001b[1;33m)\u001b[0m\u001b[1;33m\u001b[0m\u001b[1;33m\u001b[0m\u001b[0m\n\u001b[0;32m    246\u001b[0m             \u001b[1;32mraise\u001b[0m \u001b[0mexception_class\u001b[0m\u001b[1;33m(\u001b[0m\u001b[0mmessage\u001b[0m\u001b[1;33m,\u001b[0m \u001b[0mscreen\u001b[0m\u001b[1;33m,\u001b[0m \u001b[0mstacktrace\u001b[0m\u001b[1;33m,\u001b[0m \u001b[0malert_text\u001b[0m\u001b[1;33m)\u001b[0m  \u001b[1;31m# type: ignore[call-arg]  # mypy is not smart enough here\u001b[0m\u001b[1;33m\u001b[0m\u001b[1;33m\u001b[0m\u001b[0m\n\u001b[1;32m--> 247\u001b[1;33m         \u001b[1;32mraise\u001b[0m \u001b[0mexception_class\u001b[0m\u001b[1;33m(\u001b[0m\u001b[0mmessage\u001b[0m\u001b[1;33m,\u001b[0m \u001b[0mscreen\u001b[0m\u001b[1;33m,\u001b[0m \u001b[0mstacktrace\u001b[0m\u001b[1;33m)\u001b[0m\u001b[1;33m\u001b[0m\u001b[1;33m\u001b[0m\u001b[0m\n\u001b[0m\u001b[0;32m    248\u001b[0m \u001b[1;33m\u001b[0m\u001b[0m\n\u001b[0;32m    249\u001b[0m     \u001b[1;32mdef\u001b[0m \u001b[0m_value_or_default\u001b[0m\u001b[1;33m(\u001b[0m\u001b[0mself\u001b[0m\u001b[1;33m,\u001b[0m \u001b[0mobj\u001b[0m\u001b[1;33m:\u001b[0m \u001b[0mMapping\u001b[0m\u001b[1;33m[\u001b[0m\u001b[0m_KT\u001b[0m\u001b[1;33m,\u001b[0m \u001b[0m_VT\u001b[0m\u001b[1;33m]\u001b[0m\u001b[1;33m,\u001b[0m \u001b[0mkey\u001b[0m\u001b[1;33m:\u001b[0m \u001b[0m_KT\u001b[0m\u001b[1;33m,\u001b[0m \u001b[0mdefault\u001b[0m\u001b[1;33m:\u001b[0m \u001b[0m_VT\u001b[0m\u001b[1;33m)\u001b[0m \u001b[1;33m->\u001b[0m \u001b[0m_VT\u001b[0m\u001b[1;33m:\u001b[0m\u001b[1;33m\u001b[0m\u001b[1;33m\u001b[0m\u001b[0m\n",
      "\u001b[1;31mStaleElementReferenceException\u001b[0m: Message: stale element reference: element is not attached to the page document\n  (Session info: chrome=97.0.4692.99)\nStacktrace:\nBacktrace:\n\tOrdinal0 [0x00E4FDC3+2555331]\n\tOrdinal0 [0x00DE77F1+2127857]\n\tOrdinal0 [0x00CE2E08+1060360]\n\tOrdinal0 [0x00CE5524+1070372]\n\tOrdinal0 [0x00CE53EE+1070062]\n\tOrdinal0 [0x00CE5650+1070672]\n\tOrdinal0 [0x00D0FD5C+1244508]\n\tOrdinal0 [0x00D04ED6+1199830]\n\tOrdinal0 [0x00D27B0C+1342220]\n\tOrdinal0 [0x00D04984+1198468]\n\tOrdinal0 [0x00D27C14+1342484]\n\tOrdinal0 [0x00D375FA+1406458]\n\tOrdinal0 [0x00D27976+1341814]\n\tOrdinal0 [0x00D036B6+1193654]\n\tOrdinal0 [0x00D04546+1197382]\n\tGetHandleVerifier [0x00FE9622+1619522]\n\tGetHandleVerifier [0x0109882C+2336844]\n\tGetHandleVerifier [0x00EE23E1+541697]\n\tGetHandleVerifier [0x00EE1443+537699]\n\tOrdinal0 [0x00DED18E+2150798]\n\tOrdinal0 [0x00DF1518+2168088]\n\tOrdinal0 [0x00DF1660+2168416]\n\tOrdinal0 [0x00DFB330+2208560]\n\tBaseThreadInitThunk [0x7622FA29+25]\n\tRtlGetAppContainerNamedObjectPath [0x77637A9E+286]\n\tRtlGetAppContainerNamedObjectPath [0x77637A6E+238]\n"
     ]
    }
   ],
   "source": [
    "search.click()"
   ]
  },
  {
   "cell_type": "code",
   "execution_count": 35,
   "id": "99210813",
   "metadata": {},
   "outputs": [],
   "source": [
    "urls = []\n",
    "for i in driver.find_elements_by_xpath(\"//a[@class='stream-item__title']\"):\n",
    "    urls.append(i.get_attribute(\"href\"))"
   ]
  },
  {
   "cell_type": "code",
   "execution_count": 36,
   "id": "b49033de",
   "metadata": {},
   "outputs": [
    {
     "data": {
      "text/plain": [
       "19"
      ]
     },
     "execution_count": 36,
     "metadata": {},
     "output_type": "execute_result"
    }
   ],
   "source": [
    "len(urls)"
   ]
  },
  {
   "cell_type": "code",
   "execution_count": 37,
   "id": "00e79b52",
   "metadata": {},
   "outputs": [
    {
     "data": {
      "text/plain": [
       "['https://www.forbes.com/sites/michelatindera/2022/01/26/kelly-loefflers-husband-is-now-officially-a-billionaire/',\n",
       " 'https://www.forbes.com/sites/kerryadolan/2022/01/24/the-forbes-billionaires-list-africas-richest-people-2022/',\n",
       " 'https://www.forbes.com/sites/petertaylor/2022/01/28/billionaires-bidding-war-americas-last-great-piece-of-real-estate-hits-the-market/',\n",
       " 'https://www.forbes.com/sites/johnhyatt/2022/01/27/these-four-billionaires-are-investing-in-a-startup-aimed-at-making-them-and-others-richer/',\n",
       " 'https://www.forbes.com/sites/sergeiklebnikov/2022/01/29/elon-musk-and-the-other-billionaires-whose-fortunes-fell-this-week-as-tech-stocks-continue-to-struggle/',\n",
       " 'https://www.forbes.com/sites/yessarrosendar/2022/01/28/google-to-invest-up-to-1-billion-in-indian-billionaire-sunil-mittals-bharti-airtel/',\n",
       " 'https://www.forbes.com/sites/rachelsandler/2022/01/26/newly-appointed-gates-foundation-board-members-include-an-african-billionaire-and-an-academic/',\n",
       " 'https://www.forbes.com/sites/elizahaverstock/2022/01/27/brazils-nubank-cofounder-cristina-junqueira-no-longer-a-billionaire-as-nu-holdings-stock-cools/',\n",
       " 'https://www.forbes.com/sites/kerryadolan/2022/01/25/silicon-valley-real-estate-billionaire-john-arrillaga-dies-at-age-84/',\n",
       " 'https://www.forbes.com/sites/johnhyatt/2022/01/25/these-ten-crypto-billionaires-have-lost-27-billion-since-november/',\n",
       " 'https://www.forbes.com/sites/williampesek/2022/01/19/indias-billionaires-on-a-tear-as-13-billion-people-lose/',\n",
       " 'https://www.forbes.com/sites/annakaplan/2022/01/25/real-estate-billionaire-sam-zell-says-office-space-will-rebound-faster-than-retail/',\n",
       " 'https://www.forbes.com/sites/mattdurot/2022/01/22/teslas-elon-musk-leads-big-group-of-billionaire-losers-as-stocks-are-hammered/',\n",
       " 'https://www.forbes.com/sites/forbeswealthteam/2022/01/19/americas-top-givers-2022-the-25-most-philanthropic-billionaires/',\n",
       " 'https://www.forbes.com/sites/jonathanburgos/2022/01/28/singapore-billionaire-ong-beng-seng-to-bring-back-formula-1-grand-prix-in-2022-after-two-year-hiatus/',\n",
       " 'https://www.forbes.com/sites/jonathanburgos/2022/01/24/billionaire-lim-kok-thay-steps-down-from-cash-strapped-operator-of-star-cruises/',\n",
       " 'https://www.forbes.com/sites/michelatindera/2022/01/21/trumps-billionaire-donors-got-richer-than-bidens-over-the-past-year/',\n",
       " 'https://www.forbes.com/sites/lisakim/2022/01/20/billionaire-mark-cuban-opens-online-pharmacy-to-provide-affordable-generic-drugs/',\n",
       " 'https://www.forbes.com/sites/johnhyatt/2022/01/21/the-secret-behind-tv-hit-billions-hanging-out-with-billionaires-say-its-creators/']"
      ]
     },
     "execution_count": 37,
     "metadata": {},
     "output_type": "execute_result"
    }
   ],
   "source": [
    "urls"
   ]
  },
  {
   "cell_type": "code",
   "execution_count": 38,
   "id": "06014eff",
   "metadata": {},
   "outputs": [],
   "source": [
    "driver = webdriver.Chrome(r'C:\\Users\\PC\\Downloads\\chromedriver_win32 (1)\\chromedriver.exe')"
   ]
  },
  {
   "cell_type": "code",
   "execution_count": 39,
   "id": "5c521139",
   "metadata": {},
   "outputs": [],
   "source": [
    "driver.get(\"https://www.youtube.com\")"
   ]
  },
  {
   "cell_type": "code",
   "execution_count": null,
   "id": "ae673f28",
   "metadata": {},
   "outputs": [],
   "source": [
    "comment = driver.find_elements_by_xpath('//yt[@class=\"style-scope ytd-comment-renderer\"]')\n",
    "len(comment)\n",
    "comment[0:500]"
   ]
  }
 ],
 "metadata": {
  "kernelspec": {
   "display_name": "Python 3",
   "language": "python",
   "name": "python3"
  },
  "language_info": {
   "codemirror_mode": {
    "name": "ipython",
    "version": 3
   },
   "file_extension": ".py",
   "mimetype": "text/x-python",
   "name": "python",
   "nbconvert_exporter": "python",
   "pygments_lexer": "ipython3",
   "version": "3.8.8"
  }
 },
 "nbformat": 4,
 "nbformat_minor": 5
}
