{
 "cells": [
  {
   "cell_type": "code",
   "execution_count": 1,
   "id": "a2fa75af",
   "metadata": {},
   "outputs": [],
   "source": [
    "import pandas as pd\n",
    "import numpy as np\n",
    "import selenium\n",
    "from selenium import webdriver\n",
    "from selenium.common.exceptions import NoSuchElementException\n",
    "import warnings\n",
    "warnings.filterwarnings('ignore')"
   ]
  },
  {
   "cell_type": "code",
   "execution_count": 2,
   "id": "d373f985",
   "metadata": {},
   "outputs": [],
   "source": [
    "driver = webdriver.Chrome(r'C:\\Users\\PC\\Downloads\\chromedriver_win32 (1)\\chromedriver.exe')"
   ]
  },
  {
   "cell_type": "code",
   "execution_count": 3,
   "id": "91a24adb",
   "metadata": {},
   "outputs": [],
   "source": [
    "driver.get(\"https://www.amazon.com\")"
   ]
  },
  {
   "cell_type": "code",
   "execution_count": 4,
   "id": "d21bfe7a",
   "metadata": {},
   "outputs": [
    {
     "data": {
      "text/plain": [
       "<selenium.webdriver.remote.webelement.WebElement (session=\"755c8cf5e8123f542bd82d487e9bd4e2\", element=\"2de921dd-2c5d-47d8-98aa-8fe556dff172\")>"
      ]
     },
     "execution_count": 4,
     "metadata": {},
     "output_type": "execute_result"
    }
   ],
   "source": [
    "search = driver.find_element_by_id(\"twotabsearchtextbox\")\n",
    "search"
   ]
  },
  {
   "cell_type": "code",
   "execution_count": 5,
   "id": "91d24338",
   "metadata": {},
   "outputs": [],
   "source": [
    "search.send_keys(\"guitars\")"
   ]
  },
  {
   "cell_type": "code",
   "execution_count": 6,
   "id": "083700df",
   "metadata": {},
   "outputs": [
    {
     "data": {
      "text/plain": [
       "<selenium.webdriver.remote.webelement.WebElement (session=\"755c8cf5e8123f542bd82d487e9bd4e2\", element=\"6a22e4e5-9a06-42af-bd96-cf6d3d11e85a\")>"
      ]
     },
     "execution_count": 6,
     "metadata": {},
     "output_type": "execute_result"
    }
   ],
   "source": [
    "search = driver.find_element_by_xpath('/html/body/div[1]/header/div/div[1]/div[2]/div/form/div[3]/div/span/input')\n",
    "search"
   ]
  },
  {
   "cell_type": "code",
   "execution_count": 7,
   "id": "2252de47",
   "metadata": {},
   "outputs": [],
   "source": [
    "search.click()"
   ]
  },
  {
   "cell_type": "code",
   "execution_count": 24,
   "id": "edcc3c37",
   "metadata": {},
   "outputs": [],
   "source": [
    "urls = []\n",
    "for i in driver.find_elements_by_xpath(\"//a[@class='a-link-normal s-underline-text s-underline-link-text s-link-style a-text-normal']\"):\n",
    "    urls.append(i.get_attribute(\"href\"))                                    "
   ]
  },
  {
   "cell_type": "code",
   "execution_count": 25,
   "id": "4c8aee64",
   "metadata": {},
   "outputs": [
    {
     "data": {
      "text/plain": [
       "59"
      ]
     },
     "execution_count": 25,
     "metadata": {},
     "output_type": "execute_result"
    }
   ],
   "source": [
    "len(urls)"
   ]
  },
  {
   "cell_type": "code",
   "execution_count": 26,
   "id": "8f05f186",
   "metadata": {},
   "outputs": [
    {
     "data": {
      "text/plain": [
       "['https://www.amazon.com/gp/slredirect/picassoRedirect.html/ref=pa_sp_atf_aps_sr_pg1_1?ie=UTF8&adId=A08864932X76U92KPIFWO&url=%2FMoukey-Acoustic-Beginner-Guitarra-Acustica%2Fdp%2FB097YCQP1F%2Fref%3Dsr_1_1_sspa%3Fcrid%3D29NP9XM1GCKIS%26keywords%3Dguitars%26qid%3D1643350976%26sprefix%3Dg%252Caps%252C7109%26sr%3D8-1-spons%26psc%3D1%26smid%3DA1N6XPDSWPR6EW&qualifier=1643350976&id=2570477649196169&widgetName=sp_atf',\n",
       " 'https://www.amazon.com/Master-play-Beginner-Cutaway-Acoustic-Accessories/dp/B09398H6KX/ref=sr_1_2?crid=29NP9XM1GCKIS&keywords=guitars&qid=1643350976&sprefix=g%2Caps%2C7109&sr=8-2',\n",
       " 'https://www.amazon.com/Sunburst-Guitar-Accessories-Girls-Beginners/dp/B07H1RZNNX/ref=sr_1_omk_3?crid=29NP9XM1GCKIS&keywords=guitars&qid=1643350976&sprefix=g%2Caps%2C7109&sr=8-3',\n",
       " 'https://www.amazon.com/Guitar-Accessories-Great-Beginners-Standard/dp/B01MPXTKB4/ref=sr_1_4?crid=29NP9XM1GCKIS&keywords=guitars&qid=1643350976&sprefix=g%2Caps%2C7109&sr=8-4',\n",
       " 'https://www.amazon.com/Beginner-Classical-Acoustic-Guitar-Traditional/dp/B07NVWXTQQ/ref=sr_1_5?crid=29NP9XM1GCKIS&keywords=guitars&qid=1643350976&sprefix=g%2Caps%2C7109&sr=8-5',\n",
       " 'https://www.amazon.com/YMC-Beginner-Thickness-Pickguards-Electronic/dp/B01I8L5IQS/ref=sr_1_6?crid=29NP9XM1GCKIS&keywords=guitars&qid=1643350976&sprefix=g%2Caps%2C7109&sr=8-6',\n",
       " 'https://www.amazon.com/Ibanez-String-Solid-Body-Electric-GRX70QATEB/dp/B01I0CEIXY/ref=sr_1_7?crid=29NP9XM1GCKIS&keywords=guitars&qid=1643350976&sprefix=g%2Caps%2C7109&sr=8-7',\n",
       " 'https://www.amazon.com/Donner-Sunburst-Acoustic-Beginner-Dreadnought/dp/B07CVG1J2T/ref=sr_1_8?crid=29NP9XM1GCKIS&keywords=guitars&qid=1643350976&sprefix=g%2Caps%2C7109&sr=8-8',\n",
       " 'https://www.amazon.com/Ovation-CE44-5-Acoustic-Electric-Guitar-Black/dp/B00HT5H7TG/ref=sr_1_9?crid=29NP9XM1GCKIS&keywords=guitars&qid=1643350976&sprefix=g%2Caps%2C7109&sr=8-9',\n",
       " 'https://www.amazon.com/Fesley-Electric-Guitar-Stratocaster-Minimalist/dp/B09J56R1QS/ref=sr_1_10?crid=29NP9XM1GCKIS&keywords=guitars&qid=1643350976&sprefix=g%2Caps%2C7109&sr=8-10',\n",
       " 'https://www.amazon.com/Master-play-Beginner-Acoustic-Accessories-Gradient/dp/B08SHTCCH6/ref=sr_1_11?crid=29NP9XM1GCKIS&keywords=guitars&qid=1643350976&sprefix=g%2Caps%2C7109&sr=8-11',\n",
       " 'https://www.amazon.com/LyxPro-Electric-Beginner-Intermediate-Learners/dp/B09L1MZVZL/ref=sr_1_12?crid=29NP9XM1GCKIS&keywords=guitars&qid=1643350976&sprefix=g%2Caps%2C7109&sr=8-12',\n",
       " 'https://www.amazon.com/Jasmine-S35-Acoustic-Guitar-Natural/dp/B0002F58TG/ref=sr_1_13?crid=29NP9XM1GCKIS&keywords=guitars&qid=1643350976&sprefix=g%2Caps%2C7109&sr=8-13',\n",
       " 'https://www.amazon.com/gp/slredirect/picassoRedirect.html/ref=pa_sp_mtf_aps_sr_pg1_1?ie=UTF8&adId=A0886733498WCKOTUKN6&url=%2FMoukey-Acoustic-Beginner-Classical-Guitarra%2Fdp%2FB097YD2MM6%2Fref%3Dsr_1_14_sspa%3Fcrid%3D29NP9XM1GCKIS%26keywords%3Dguitars%26qid%3D1643350976%26sprefix%3Dg%252Caps%252C7109%26sr%3D8-14-spons%26psc%3D1&qualifier=1643350976&id=2570477649196169&widgetName=sp_mtf',\n",
       " 'https://www.amazon.com/Acoustic-Electric-Acoustic-electric-Beginners-Vangoa/dp/B08DR4Q584/ref=sr_1_15?crid=29NP9XM1GCKIS&keywords=guitars&qid=1643350976&sprefix=g%2Caps%2C7109&sr=8-15',\n",
       " 'https://www.amazon.com/Moukey-Acoustic-Beginner-Guitarra-Acustica/dp/B097YCQP1F/ref=sr_1_16?crid=29NP9XM1GCKIS&keywords=guitars&qid=1643350976&sprefix=g%2Caps%2C7109&sr=8-16',\n",
       " 'https://www.amazon.com/Music-Alley-String-Natural-MA34-N/dp/B00O1QJ6KE/ref=sr_1_17?crid=29NP9XM1GCKIS&keywords=guitars&qid=1643350976&sprefix=g%2Caps%2C7109&sr=8-17',\n",
       " 'https://www.amazon.com/Ibanez-String-Solid-Body-Electric-GRX70QATBB/dp/B0064RV6V0/ref=sr_1_18?crid=29NP9XM1GCKIS&keywords=guitars&qid=1643350976&sprefix=g%2Caps%2C7109&sr=8-18',\n",
       " 'https://www.amazon.com/Electric-Complete-Beginner-Shoulder-Wrenches/dp/B08ZHH9Y57/ref=sr_1_19?crid=29NP9XM1GCKIS&keywords=guitars&qid=1643350976&sprefix=g%2Caps%2C7109&sr=8-19',\n",
       " 'https://www.amazon.com/Latitude-SE-1819-Electric-Humbucker-Sunburst/dp/B09NDXR764/ref=sr_1_20?crid=29NP9XM1GCKIS&keywords=guitars&qid=1643350976&sprefix=g%2Caps%2C7109&sr=8-20',\n",
       " 'https://www.amazon.com/Kadence-Acoustica-Acoustic-Guitar-Equlizer/dp/B0757H5P13/ref=sr_1_21?crid=29NP9XM1GCKIS&keywords=guitars&qid=1643350976&sprefix=g%2Caps%2C7109&sr=8-21',\n",
       " 'https://www.amazon.com/Acoustic-Cutaway-Full-size-Beginner-Janerock/dp/B083SPVD5V/ref=sr_1_22?crid=29NP9XM1GCKIS&keywords=guitars&qid=1643350976&sprefix=g%2Caps%2C7109&sr=8-22',\n",
       " 'https://www.amazon.com/Electric-Beginner-Tremolo-Amplifier-Shoulder/dp/B09J4DZ9HN/ref=sr_1_23?crid=29NP9XM1GCKIS&keywords=guitars&qid=1643350976&sprefix=g%2Caps%2C7109&sr=8-23',\n",
       " 'https://www.amazon.com/Moukey-Acoustic-Beginner-Classical-Guitarra/dp/B097YFGCY6/ref=sr_1_24?crid=29NP9XM1GCKIS&keywords=guitars&qid=1643350976&sprefix=g%2Caps%2C7109&sr=8-24',\n",
       " 'https://www.amazon.com/ESP-EC-256-Electric-Guitar-Black/dp/B00BEZY290/ref=sr_1_25?crid=29NP9XM1GCKIS&keywords=guitars&qid=1643350976&sprefix=g%2Caps%2C7109&sr=8-25',\n",
       " 'https://www.amazon.com/Fender-FA-15N-String-Beginner-Acoustic/dp/B07BCPM3RX/ref=sr_1_26?crid=29NP9XM1GCKIS&keywords=guitars&qid=1643350976&sprefix=g%2Caps%2C7109&sr=8-26',\n",
       " 'https://www.amazon.com/gp/slredirect/picassoRedirect.html/ref=pa_sp_mtf_aps_sr_pg1_1?ie=UTF8&adId=A07674262I2UW4BL9A88N&url=%2FInches-Classical-Beginner-Acoustic-Strings%2Fdp%2FB07ZVNW46Q%2Fref%3Dsr_1_27_sspa%3Fcrid%3D29NP9XM1GCKIS%26keywords%3Dguitars%26qid%3D1643350976%26sprefix%3Dg%252Caps%252C7109%26sr%3D8-27-spons%26psc%3D1&qualifier=1643350976&id=2570477649196169&widgetName=sp_mtf',\n",
       " 'https://www.amazon.com/gp/slredirect/picassoRedirect.html/ref=pa_sp_mtf_aps_sr_pg1_1?ie=UTF8&adId=A06375571SX4UE7W4FDK9&url=%2FMartin-Strings-Acoustic-Guitar-41Y18MA550T%2Fdp%2FB07GTCQD9N%2Fref%3Dsr_1_28_sspa%3Fcrid%3D29NP9XM1GCKIS%26keywords%3Dguitars%26qid%3D1643350976%26sprefix%3Dg%252Caps%252C7109%26sr%3D8-28-spons%26psc%3D1&qualifier=1643350976&id=2570477649196169&widgetName=sp_mtf',\n",
       " 'https://www.amazon.com/gp/slredirect/picassoRedirect.html/ref=pa_sp_mtf_aps_sr_pg1_1?ie=UTF8&adId=A0529818NEBNWVJ9VEG&url=%2FMAXCHEER-10PCS-Guitar-Thickness-Repair%2Fdp%2FB09N6LC2RX%2Fref%3Dsr_1_29_sspa%3Fcrid%3D29NP9XM1GCKIS%26keywords%3Dguitars%26qid%3D1643350976%26sprefix%3Dg%252Caps%252C7109%26sr%3D8-29-spons%26psc%3D1&qualifier=1643350976&id=2570477649196169&widgetName=sp_mtf',\n",
       " 'https://www.amazon.com/Acoustic-Cutaway-Adjustable-Strings-Janerock/dp/B083SPCQLM/ref=sr_1_30?crid=29NP9XM1GCKIS&keywords=guitars&qid=1643350976&sprefix=g%2Caps%2C7109&sr=8-30',\n",
       " 'https://www.amazon.com/Beginner-Classical-Acoustic-Guitar-Traditional/dp/B07NVWHBBH/ref=sr_1_31?crid=29NP9XM1GCKIS&keywords=guitars&qid=1643350976&sprefix=g%2Caps%2C7109&sr=8-31',\n",
       " 'https://www.amazon.com/First-Act-Acoustic-Guitar-Steel-Reinforced/dp/B085TDB99B/ref=sr_1_32?crid=29NP9XM1GCKIS&keywords=guitars&qid=1643350976&sprefix=g%2Caps%2C7109&sr=8-32',\n",
       " 'https://www.amazon.com/Ibanez-String-Solid-Body-Electric-GRG131DXBKF/dp/B078XKF2G2/ref=sr_1_33?crid=29NP9XM1GCKIS&keywords=guitars&qid=1643350976&sprefix=g%2Caps%2C7109&sr=8-33',\n",
       " 'https://www.amazon.com/CB-SKY-Acoustic-Beginner-instrument/dp/B07S22M7J7/ref=sr_1_34?crid=29NP9XM1GCKIS&keywords=guitars&qid=1643350976&sprefix=g%2Caps%2C7109&sr=8-34',\n",
       " 'https://www.amazon.com/Beginner-Classical-Acoustic-Guitar-PGACLS82SUN/dp/B088FZW8FV/ref=sr_1_35?crid=29NP9XM1GCKIS&keywords=guitars&qid=1643350976&sprefix=g%2Caps%2C7109&sr=8-35',\n",
       " 'https://www.amazon.com/JOYMUSIC-String-Right-Sunburst-JG-38C/dp/B08Q5NDH2Y/ref=sr_1_36?crid=29NP9XM1GCKIS&keywords=guitars&qid=1643350976&sprefix=g%2Caps%2C7109&sr=8-36',\n",
       " 'https://www.amazon.com/LyxPro-Electric-Amplifier-Accessories-Shoulder/dp/B082FPDPCQ/ref=sr_1_37?crid=29NP9XM1GCKIS&keywords=guitars&qid=1643350976&sprefix=g%2Caps%2C7109&sr=8-37',\n",
       " 'https://www.amazon.com/Inches-Classical-Beginner-Acoustic-Strings/dp/B07ZVNW46Q/ref=sr_1_38?crid=29NP9XM1GCKIS&keywords=guitars&qid=1643350976&sprefix=g%2Caps%2C7109&sr=8-38',\n",
       " 'https://www.amazon.com/Guitar-Accessories-Including-Strings-Protect/dp/B08CRGKTV1/ref=sr_1_39?crid=29NP9XM1GCKIS&keywords=guitars&qid=1643350976&sprefix=g%2Caps%2C7109&sr=8-39',\n",
       " 'https://www.amazon.com/Acoustic-Beginner-Acustica-Guitarra-Packaging/dp/B09JNWF2ZT/ref=sr_1_40?crid=29NP9XM1GCKIS&keywords=guitars&qid=1643350976&sprefix=g%2Caps%2C7109&sr=8-40',\n",
       " 'https://www.amazon.com/Kadence-Frontier-Acoustic-Guitar-Super/dp/B01CJJGEVS/ref=sr_1_41?crid=29NP9XM1GCKIS&keywords=guitars&qid=1643350976&sprefix=g%2Caps%2C7109&sr=8-41',\n",
       " 'https://www.amazon.com/Fender-T-Bucket-Acoustic-Electric-Fingerboard/dp/B077MMTLLX/ref=sr_1_42?crid=29NP9XM1GCKIS&keywords=guitars&qid=1643350976&sprefix=g%2Caps%2C7109&sr=8-42',\n",
       " 'https://www.amazon.com/Jackson-Dinky-Arch-Top-JS22/dp/B07LFVBFCW/ref=sr_1_43?crid=29NP9XM1GCKIS&keywords=guitars&qid=1643350976&sprefix=g%2Caps%2C7109&sr=8-43',\n",
       " 'https://www.amazon.com/Classical-Acoustic-Beginners-Strings-Waterproof/dp/B07FHZC61S/ref=sr_1_44?crid=29NP9XM1GCKIS&keywords=guitars&qid=1643350976&sprefix=g%2Caps%2C7109&sr=8-44',\n",
       " 'https://www.amazon.com/Acoustic-Electric-Dreadnought-Cutaway-Beginners/dp/B0969T7XXL/ref=sr_1_45?crid=29NP9XM1GCKIS&keywords=guitars&qid=1643350976&sprefix=g%2Caps%2C7109&sr=8-45',\n",
       " 'https://www.amazon.com/Guild-Guitars-Acoustic-Booklet-Recycled/dp/B092G69GP5/ref=sr_1_46?crid=29NP9XM1GCKIS&keywords=guitars&qid=1643350976&sprefix=g%2Caps%2C7109&sr=8-46',\n",
       " 'https://www.amazon.com/LyxPro-Electric-Paul-Style-Beginner-Intermediate/dp/B09LXSBGCH/ref=sr_1_47?crid=29NP9XM1GCKIS&keywords=guitars&qid=1643350976&sprefix=g%2Caps%2C7109&sr=8-47',\n",
       " 'https://www.amazon.com/Complete-3-String-Fretted-Cigar-Guitar/dp/B0929GLJMS/ref=sr_1_48?crid=29NP9XM1GCKIS&keywords=guitars&qid=1643350976&sprefix=g%2Caps%2C7109&sr=8-48',\n",
       " 'https://www.amazon.com/Glen-Burton-GE101BCO-BKB-Stratocaster-Style-Accessories/dp/B00OJHIO6C/ref=sr_1_49?crid=29NP9XM1GCKIS&keywords=guitars&qid=1643350976&sprefix=g%2Caps%2C7109&sr=8-49',\n",
       " 'https://www.amazon.com/38-inch-Acoustic-guitar-White/dp/B08BHSPFMW/ref=sr_1_50?crid=29NP9XM1GCKIS&keywords=guitars&qid=1643350976&sprefix=g%2Caps%2C7109&sr=8-50',\n",
       " 'https://www.amazon.com/DIY-Bass-Guitar-Kit-Electronics/dp/B08BLP23H7/ref=sr_1_51?crid=29NP9XM1GCKIS&keywords=guitars&qid=1643350976&sprefix=g%2Caps%2C7109&sr=8-51',\n",
       " 'https://www.amazon.com/LAVA-Smartguitar-Recording-Functions-Performance/dp/B09J8HQHJ7/ref=sr_1_52?crid=29NP9XM1GCKIS&keywords=guitars&qid=1643350976&sprefix=g%2Caps%2C7109&sr=8-52',\n",
       " 'https://www.amazon.com/LyxPro-Telecaster-Full-Size-Paulownia-Pickguard/dp/B08ML33HXW/ref=sr_1_53?crid=29NP9XM1GCKIS&keywords=guitars&qid=1643350976&sprefix=g%2Caps%2C7109&sr=8-53',\n",
       " 'https://www.amazon.com/gp/slredirect/picassoRedirect.html/ref=pa_sp_btf_aps_sr_pg1_1?ie=UTF8&adId=A05282432SDHLEXOCDHXT&url=%2FMAXCHEER-Screw-Electric-Guitar-Tremolo%2Fdp%2FB09N6SDPG7%2Fref%3Dsr_1_54_sspa%3Fcrid%3D29NP9XM1GCKIS%26keywords%3Dguitars%26qid%3D1643350976%26sprefix%3Dg%252Caps%252C7109%26sr%3D8-54-spons%26psc%3D1&qualifier=1643350976&id=2570477649196169&widgetName=sp_btf',\n",
       " 'https://www.amazon.com/gp/slredirect/picassoRedirect.html/ref=pa_sp_btf_aps_sr_pg1_1?ie=UTF8&adId=A075167818P74VSLOSOYY&url=%2FMartin-Strings-Acoustic-Guitar-41Y18MA140T%2Fdp%2FB07GTCQJMQ%2Fref%3Dsr_1_55_sspa%3Fcrid%3D29NP9XM1GCKIS%26keywords%3Dguitars%26qid%3D1643350976%26sprefix%3Dg%252Caps%252C7109%26sr%3D8-55-spons%26psc%3D1&qualifier=1643350976&id=2570477649196169&widgetName=sp_btf',\n",
       " 'https://www.amazon.com/gp/slredirect/picassoRedirect.html/ref=pa_sp_btf_aps_sr_pg1_1?ie=UTF8&adId=A06858471P5OL85O81W0P&url=%2FHuang-Cheng-Toys-Instrument-Childrens%2Fdp%2FB07W3MPGGN%2Fref%3Dsr_1_56_sspa%3Fcrid%3D29NP9XM1GCKIS%26keywords%3Dguitars%26qid%3D1643350976%26sprefix%3Dg%252Caps%252C7109%26sr%3D8-56-spons%26psc%3D1&qualifier=1643350976&id=2570477649196169&widgetName=sp_btf',\n",
       " 'https://www.amazon.com/gp/slredirect/picassoRedirect.html/ref=pa_sp_btf_aps_sr_pg1_1?ie=UTF8&adId=A06992432TBJVWEBE8D81&url=%2FNUX-Dual-Switch-Acoustic-Simulator-Capturing%2Fdp%2FB08BHQSVBN%2Fref%3Dsr_1_57_sspa%3Fcrid%3D29NP9XM1GCKIS%26keywords%3Dguitars%26qid%3D1643350976%26sprefix%3Dg%252Caps%252C7109%26sr%3D8-57-spons%26psc%3D1%26smid%3DA12BZYZWPO5UKH&qualifier=1643350976&id=2570477649196169&widgetName=sp_btf',\n",
       " 'https://www.amazon.com/gp/slredirect/picassoRedirect.html/ref=pa_sp_btf_aps_sr_pg1_1?ie=UTF8&adId=A06312411DEMGPHJ93PCS&url=%2FKoala-Tools-Guitar-Tablature-Notebook%2Fdp%2FB07VKJV2LL%2Fref%3Dsr_1_58_sspa%3Fcrid%3D29NP9XM1GCKIS%26keywords%3Dguitars%26qid%3D1643350976%26sprefix%3Dg%252Caps%252C7109%26sr%3D8-58-spons%26psc%3D1&qualifier=1643350976&id=2570477649196169&widgetName=sp_btf',\n",
       " 'https://www.amazon.com/gp/slredirect/picassoRedirect.html/ref=pa_sp_btf_aps_sr_pg1_1?ie=UTF8&adId=A06397131V9ZSVXY68UYI&url=%2FHanded-Acoustic-Metronome-Wall-mounted-Cleaning%2Fdp%2FB0863HBZ88%2Fref%3Dsr_1_59_sspa%3Fcrid%3D29NP9XM1GCKIS%26keywords%3Dguitars%26qid%3D1643350976%26sprefix%3Dg%252Caps%252C7109%26sr%3D8-59-spons%26psc%3D1&qualifier=1643350976&id=2570477649196169&widgetName=sp_btf']"
      ]
     },
     "execution_count": 26,
     "metadata": {},
     "output_type": "execute_result"
    }
   ],
   "source": [
    "urls"
   ]
  },
  {
   "cell_type": "code",
   "execution_count": 29,
   "id": "e1e3fc38",
   "metadata": {},
   "outputs": [],
   "source": [
    "brand_name = []\n",
    "product_name = []\n",
    "prices = []\n",
    "exchange = []\n",
    "expected_delivery = []\n",
    "availability = []"
   ]
  },
  {
   "cell_type": "code",
   "execution_count": 12,
   "id": "8a36228c",
   "metadata": {},
   "outputs": [],
   "source": [
    "import time"
   ]
  },
  {
   "cell_type": "code",
   "execution_count": 30,
   "id": "e605ef61",
   "metadata": {},
   "outputs": [
    {
     "ename": "TimeoutException",
     "evalue": "Message: timeout: Timed out receiving message from renderer: 297.352\n  (Session info: chrome=97.0.4692.99)\nStacktrace:\nBacktrace:\n\tOrdinal0 [0x0048FDC3+2555331]\n\tOrdinal0 [0x004277F1+2127857]\n\tOrdinal0 [0x00322E08+1060360]\n\tOrdinal0 [0x003153A8+1004456]\n\tOrdinal0 [0x003143FA+1000442]\n\tOrdinal0 [0x003147C7+1001415]\n\tOrdinal0 [0x0031E4FF+1041663]\n\tOrdinal0 [0x0032884B+1083467]\n\tOrdinal0 [0x0032AF60+1093472]\n\tOrdinal0 [0x00314AC6+1002182]\n\tOrdinal0 [0x003286EC+1083116]\n\tOrdinal0 [0x003778C6+1407174]\n\tOrdinal0 [0x00367976+1341814]\n\tOrdinal0 [0x003436B6+1193654]\n\tOrdinal0 [0x00344546+1197382]\n\tGetHandleVerifier [0x00629622+1619522]\n\tGetHandleVerifier [0x006D882C+2336844]\n\tGetHandleVerifier [0x005223E1+541697]\n\tGetHandleVerifier [0x00521443+537699]\n\tOrdinal0 [0x0042D18E+2150798]\n\tOrdinal0 [0x00431518+2168088]\n\tOrdinal0 [0x00431660+2168416]\n\tOrdinal0 [0x0043B330+2208560]\n\tBaseThreadInitThunk [0x7622FA29+25]\n\tRtlGetAppContainerNamedObjectPath [0x77637A9E+286]\n\tRtlGetAppContainerNamedObjectPath [0x77637A6E+238]\n",
     "output_type": "error",
     "traceback": [
      "\u001b[1;31m---------------------------------------------------------------------------\u001b[0m",
      "\u001b[1;31mTimeoutException\u001b[0m                          Traceback (most recent call last)",
      "\u001b[1;32m<ipython-input-30-1338ccaca010>\u001b[0m in \u001b[0;36m<module>\u001b[1;34m\u001b[0m\n\u001b[0;32m      9\u001b[0m \u001b[1;33m\u001b[0m\u001b[0m\n\u001b[0;32m     10\u001b[0m \u001b[1;32mfor\u001b[0m \u001b[0mi\u001b[0m \u001b[1;32min\u001b[0m \u001b[0murls\u001b[0m\u001b[1;33m:\u001b[0m\u001b[1;33m\u001b[0m\u001b[1;33m\u001b[0m\u001b[0m\n\u001b[1;32m---> 11\u001b[1;33m     \u001b[0mdriver\u001b[0m\u001b[1;33m.\u001b[0m\u001b[0mget\u001b[0m\u001b[1;33m(\u001b[0m\u001b[0mi\u001b[0m\u001b[1;33m)\u001b[0m\u001b[1;33m\u001b[0m\u001b[1;33m\u001b[0m\u001b[0m\n\u001b[0m\u001b[0;32m     12\u001b[0m     \u001b[0mtime\u001b[0m\u001b[1;33m.\u001b[0m\u001b[0msleep\u001b[0m\u001b[1;33m(\u001b[0m\u001b[1;36m2\u001b[0m\u001b[1;33m)\u001b[0m\u001b[1;33m\u001b[0m\u001b[1;33m\u001b[0m\u001b[0m\n\u001b[0;32m     13\u001b[0m \u001b[1;33m\u001b[0m\u001b[0m\n",
      "\u001b[1;32mC:\\ProgramData\\Anaconda3\\lib\\site-packages\\selenium\\webdriver\\remote\\webdriver.py\u001b[0m in \u001b[0;36mget\u001b[1;34m(self, url)\u001b[0m\n\u001b[0;32m    434\u001b[0m         \u001b[0mLoads\u001b[0m \u001b[0ma\u001b[0m \u001b[0mweb\u001b[0m \u001b[0mpage\u001b[0m \u001b[1;32min\u001b[0m \u001b[0mthe\u001b[0m \u001b[0mcurrent\u001b[0m \u001b[0mbrowser\u001b[0m \u001b[0msession\u001b[0m\u001b[1;33m.\u001b[0m\u001b[1;33m\u001b[0m\u001b[1;33m\u001b[0m\u001b[0m\n\u001b[0;32m    435\u001b[0m         \"\"\"\n\u001b[1;32m--> 436\u001b[1;33m         \u001b[0mself\u001b[0m\u001b[1;33m.\u001b[0m\u001b[0mexecute\u001b[0m\u001b[1;33m(\u001b[0m\u001b[0mCommand\u001b[0m\u001b[1;33m.\u001b[0m\u001b[0mGET\u001b[0m\u001b[1;33m,\u001b[0m \u001b[1;33m{\u001b[0m\u001b[1;34m'url'\u001b[0m\u001b[1;33m:\u001b[0m \u001b[0murl\u001b[0m\u001b[1;33m}\u001b[0m\u001b[1;33m)\u001b[0m\u001b[1;33m\u001b[0m\u001b[1;33m\u001b[0m\u001b[0m\n\u001b[0m\u001b[0;32m    437\u001b[0m \u001b[1;33m\u001b[0m\u001b[0m\n\u001b[0;32m    438\u001b[0m     \u001b[1;33m@\u001b[0m\u001b[0mproperty\u001b[0m\u001b[1;33m\u001b[0m\u001b[1;33m\u001b[0m\u001b[0m\n",
      "\u001b[1;32mC:\\ProgramData\\Anaconda3\\lib\\site-packages\\selenium\\webdriver\\remote\\webdriver.py\u001b[0m in \u001b[0;36mexecute\u001b[1;34m(self, driver_command, params)\u001b[0m\n\u001b[0;32m    422\u001b[0m         \u001b[0mresponse\u001b[0m \u001b[1;33m=\u001b[0m \u001b[0mself\u001b[0m\u001b[1;33m.\u001b[0m\u001b[0mcommand_executor\u001b[0m\u001b[1;33m.\u001b[0m\u001b[0mexecute\u001b[0m\u001b[1;33m(\u001b[0m\u001b[0mdriver_command\u001b[0m\u001b[1;33m,\u001b[0m \u001b[0mparams\u001b[0m\u001b[1;33m)\u001b[0m\u001b[1;33m\u001b[0m\u001b[1;33m\u001b[0m\u001b[0m\n\u001b[0;32m    423\u001b[0m         \u001b[1;32mif\u001b[0m \u001b[0mresponse\u001b[0m\u001b[1;33m:\u001b[0m\u001b[1;33m\u001b[0m\u001b[1;33m\u001b[0m\u001b[0m\n\u001b[1;32m--> 424\u001b[1;33m             \u001b[0mself\u001b[0m\u001b[1;33m.\u001b[0m\u001b[0merror_handler\u001b[0m\u001b[1;33m.\u001b[0m\u001b[0mcheck_response\u001b[0m\u001b[1;33m(\u001b[0m\u001b[0mresponse\u001b[0m\u001b[1;33m)\u001b[0m\u001b[1;33m\u001b[0m\u001b[1;33m\u001b[0m\u001b[0m\n\u001b[0m\u001b[0;32m    425\u001b[0m             response['value'] = self._unwrap_value(\n\u001b[0;32m    426\u001b[0m                 response.get('value', None))\n",
      "\u001b[1;32mC:\\ProgramData\\Anaconda3\\lib\\site-packages\\selenium\\webdriver\\remote\\errorhandler.py\u001b[0m in \u001b[0;36mcheck_response\u001b[1;34m(self, response)\u001b[0m\n\u001b[0;32m    245\u001b[0m                 \u001b[0malert_text\u001b[0m \u001b[1;33m=\u001b[0m \u001b[0mvalue\u001b[0m\u001b[1;33m[\u001b[0m\u001b[1;34m'alert'\u001b[0m\u001b[1;33m]\u001b[0m\u001b[1;33m.\u001b[0m\u001b[0mget\u001b[0m\u001b[1;33m(\u001b[0m\u001b[1;34m'text'\u001b[0m\u001b[1;33m)\u001b[0m\u001b[1;33m\u001b[0m\u001b[1;33m\u001b[0m\u001b[0m\n\u001b[0;32m    246\u001b[0m             \u001b[1;32mraise\u001b[0m \u001b[0mexception_class\u001b[0m\u001b[1;33m(\u001b[0m\u001b[0mmessage\u001b[0m\u001b[1;33m,\u001b[0m \u001b[0mscreen\u001b[0m\u001b[1;33m,\u001b[0m \u001b[0mstacktrace\u001b[0m\u001b[1;33m,\u001b[0m \u001b[0malert_text\u001b[0m\u001b[1;33m)\u001b[0m  \u001b[1;31m# type: ignore[call-arg]  # mypy is not smart enough here\u001b[0m\u001b[1;33m\u001b[0m\u001b[1;33m\u001b[0m\u001b[0m\n\u001b[1;32m--> 247\u001b[1;33m         \u001b[1;32mraise\u001b[0m \u001b[0mexception_class\u001b[0m\u001b[1;33m(\u001b[0m\u001b[0mmessage\u001b[0m\u001b[1;33m,\u001b[0m \u001b[0mscreen\u001b[0m\u001b[1;33m,\u001b[0m \u001b[0mstacktrace\u001b[0m\u001b[1;33m)\u001b[0m\u001b[1;33m\u001b[0m\u001b[1;33m\u001b[0m\u001b[0m\n\u001b[0m\u001b[0;32m    248\u001b[0m \u001b[1;33m\u001b[0m\u001b[0m\n\u001b[0;32m    249\u001b[0m     \u001b[1;32mdef\u001b[0m \u001b[0m_value_or_default\u001b[0m\u001b[1;33m(\u001b[0m\u001b[0mself\u001b[0m\u001b[1;33m,\u001b[0m \u001b[0mobj\u001b[0m\u001b[1;33m:\u001b[0m \u001b[0mMapping\u001b[0m\u001b[1;33m[\u001b[0m\u001b[0m_KT\u001b[0m\u001b[1;33m,\u001b[0m \u001b[0m_VT\u001b[0m\u001b[1;33m]\u001b[0m\u001b[1;33m,\u001b[0m \u001b[0mkey\u001b[0m\u001b[1;33m:\u001b[0m \u001b[0m_KT\u001b[0m\u001b[1;33m,\u001b[0m \u001b[0mdefault\u001b[0m\u001b[1;33m:\u001b[0m \u001b[0m_VT\u001b[0m\u001b[1;33m)\u001b[0m \u001b[1;33m->\u001b[0m \u001b[0m_VT\u001b[0m\u001b[1;33m:\u001b[0m\u001b[1;33m\u001b[0m\u001b[1;33m\u001b[0m\u001b[0m\n",
      "\u001b[1;31mTimeoutException\u001b[0m: Message: timeout: Timed out receiving message from renderer: 297.352\n  (Session info: chrome=97.0.4692.99)\nStacktrace:\nBacktrace:\n\tOrdinal0 [0x0048FDC3+2555331]\n\tOrdinal0 [0x004277F1+2127857]\n\tOrdinal0 [0x00322E08+1060360]\n\tOrdinal0 [0x003153A8+1004456]\n\tOrdinal0 [0x003143FA+1000442]\n\tOrdinal0 [0x003147C7+1001415]\n\tOrdinal0 [0x0031E4FF+1041663]\n\tOrdinal0 [0x0032884B+1083467]\n\tOrdinal0 [0x0032AF60+1093472]\n\tOrdinal0 [0x00314AC6+1002182]\n\tOrdinal0 [0x003286EC+1083116]\n\tOrdinal0 [0x003778C6+1407174]\n\tOrdinal0 [0x00367976+1341814]\n\tOrdinal0 [0x003436B6+1193654]\n\tOrdinal0 [0x00344546+1197382]\n\tGetHandleVerifier [0x00629622+1619522]\n\tGetHandleVerifier [0x006D882C+2336844]\n\tGetHandleVerifier [0x005223E1+541697]\n\tGetHandleVerifier [0x00521443+537699]\n\tOrdinal0 [0x0042D18E+2150798]\n\tOrdinal0 [0x00431518+2168088]\n\tOrdinal0 [0x00431660+2168416]\n\tOrdinal0 [0x0043B330+2208560]\n\tBaseThreadInitThunk [0x7622FA29+25]\n\tRtlGetAppContainerNamedObjectPath [0x77637A9E+286]\n\tRtlGetAppContainerNamedObjectPath [0x77637A6E+238]\n"
     ]
    }
   ],
   "source": [
    "for i in urls:\n",
    "    driver.get(i)\n",
    "    time.sleep(2)\n",
    "    try:\n",
    "        brand = driver.find_element_by_xpath(\"//span[@class='a-size-base']\")\n",
    "        brand_name.append(brand.text.replace(\"/n\",\"new line\"))\n",
    "    except :\n",
    "        brand_name.append('_')\n",
    "        \n",
    "for i in urls:\n",
    "    driver.get(i)\n",
    "    time.sleep(2)\n",
    "    \n",
    "    try:\n",
    "        product = driver.find_element_by_xpath(\"//h1[@class='a-size-large a-spacing-none']\")\n",
    "        product_name.append(product.text.replace(\"/n\",\"new line\"))\n",
    "    except :\n",
    "        product_name.append('_') \n",
    "        \n",
    "for i in urls:\n",
    "    driver.get(i)\n",
    "    time.sleep(2)\n",
    "    \n",
    "    try:\n",
    "        price = driver.find_element_by_xpath(\"//span[@class = 'a-offscreen']\")\n",
    "        prices.append(price.text.replace(\"/n\",\"new line\"))\n",
    "    except:\n",
    "        prices.append('_')    "
   ]
  },
  {
   "cell_type": "code",
   "execution_count": 1,
   "id": "5fb8bace",
   "metadata": {},
   "outputs": [
    {
     "ename": "NameError",
     "evalue": "name 'brand_name' is not defined",
     "output_type": "error",
     "traceback": [
      "\u001b[1;31m---------------------------------------------------------------------------\u001b[0m",
      "\u001b[1;31mNameError\u001b[0m                                 Traceback (most recent call last)",
      "\u001b[1;32m<ipython-input-1-24cb495f9cc4>\u001b[0m in \u001b[0;36m<module>\u001b[1;34m\u001b[0m\n\u001b[1;32m----> 1\u001b[1;33m \u001b[0mlen\u001b[0m\u001b[1;33m(\u001b[0m\u001b[0mbrand_name\u001b[0m\u001b[1;33m)\u001b[0m\u001b[1;33m\u001b[0m\u001b[1;33m\u001b[0m\u001b[0m\n\u001b[0m",
      "\u001b[1;31mNameError\u001b[0m: name 'brand_name' is not defined"
     ]
    }
   ],
   "source": [
    "len(brand_name)"
   ]
  },
  {
   "cell_type": "code",
   "execution_count": null,
   "id": "df3ea6b7",
   "metadata": {},
   "outputs": [],
   "source": [
    "product"
   ]
  }
 ],
 "metadata": {
  "kernelspec": {
   "display_name": "Python 3",
   "language": "python",
   "name": "python3"
  },
  "language_info": {
   "codemirror_mode": {
    "name": "ipython",
    "version": 3
   },
   "file_extension": ".py",
   "mimetype": "text/x-python",
   "name": "python",
   "nbconvert_exporter": "python",
   "pygments_lexer": "ipython3",
   "version": "3.8.8"
  }
 },
 "nbformat": 4,
 "nbformat_minor": 5
}
